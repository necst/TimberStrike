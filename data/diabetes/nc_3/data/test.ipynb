{
 "cells": [
  {
   "cell_type": "code",
   "id": "initial_id",
   "metadata": {
    "collapsed": true,
    "ExecuteTime": {
     "end_time": "2025-02-19T22:24:13.959899Z",
     "start_time": "2025-02-19T22:24:13.954903Z"
    }
   },
   "source": "import numpy as np",
   "outputs": [],
   "execution_count": 11
  },
  {
   "metadata": {
    "ExecuteTime": {
     "end_time": "2025-02-19T22:24:14.009793Z",
     "start_time": "2025-02-19T22:24:14.005266Z"
    }
   },
   "cell_type": "code",
   "source": [
    "x_valid = np.load('client_0/valid/x_valid.npy')\n",
    "y_valid = np.load('client_0/valid/y_valid.npy')"
   ],
   "id": "844eb205935f65a4",
   "outputs": [],
   "execution_count": 12
  },
  {
   "metadata": {
    "ExecuteTime": {
     "end_time": "2025-02-19T22:24:14.068262Z",
     "start_time": "2025-02-19T22:24:14.060286Z"
    }
   },
   "cell_type": "code",
   "source": "print(x_valid.shape, y_valid.shape)",
   "id": "dab43d269c036192",
   "outputs": [
    {
     "name": "stdout",
     "output_type": "stream",
     "text": [
      "(51, 8) (51, 1)\n"
     ]
    }
   ],
   "execution_count": 13
  },
  {
   "metadata": {
    "ExecuteTime": {
     "end_time": "2025-02-19T22:24:14.130435Z",
     "start_time": "2025-02-19T22:24:14.119782Z"
    }
   },
   "cell_type": "code",
   "source": [
    "x_train = np.load('client_0/train/x_train.npy')\n",
    "y_train = np.load('client_0/train/y_train.npy')"
   ],
   "id": "466a4c69e70ffb8a",
   "outputs": [],
   "execution_count": 14
  },
  {
   "metadata": {
    "ExecuteTime": {
     "end_time": "2025-02-19T22:24:14.191092Z",
     "start_time": "2025-02-19T22:24:14.178445Z"
    }
   },
   "cell_type": "code",
   "source": "print(x_train.shape, y_train.shape)",
   "id": "f2300ab81be969a0",
   "outputs": [
    {
     "name": "stdout",
     "output_type": "stream",
     "text": [
      "(283, 8) (283, 1)\n"
     ]
    }
   ],
   "execution_count": 15
  }
 ],
 "metadata": {
  "kernelspec": {
   "display_name": "Python 3",
   "language": "python",
   "name": "python3"
  },
  "language_info": {
   "codemirror_mode": {
    "name": "ipython",
    "version": 2
   },
   "file_extension": ".py",
   "mimetype": "text/x-python",
   "name": "python",
   "nbconvert_exporter": "python",
   "pygments_lexer": "ipython2",
   "version": "2.7.6"
  }
 },
 "nbformat": 4,
 "nbformat_minor": 5
}
