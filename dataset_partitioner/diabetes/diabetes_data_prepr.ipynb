{
 "cells": [
  {
   "cell_type": "code",
   "id": "initial_id",
   "metadata": {
    "collapsed": true,
    "ExecuteTime": {
     "end_time": "2025-02-19T22:11:05.169468Z",
     "start_time": "2025-02-19T22:11:05.166069Z"
    }
   },
   "source": "import pandas as pd",
   "outputs": [],
   "execution_count": 7
  },
  {
   "metadata": {
    "ExecuteTime": {
     "end_time": "2025-02-19T22:11:05.221210Z",
     "start_time": "2025-02-19T22:11:05.213767Z"
    }
   },
   "cell_type": "code",
   "source": [
    "# Load the data\n",
    "data = pd.read_csv('diabetes.csv')\n",
    "\n",
    "# Preprocess the data\n",
    "data.info()\n"
   ],
   "id": "2287f99061e5e4f1",
   "outputs": [
    {
     "name": "stdout",
     "output_type": "stream",
     "text": [
      "<class 'pandas.core.frame.DataFrame'>\n",
      "RangeIndex: 768 entries, 0 to 767\n",
      "Data columns (total 9 columns):\n",
      " #   Column                    Non-Null Count  Dtype  \n",
      "---  ------                    --------------  -----  \n",
      " 0   Pregnancies               768 non-null    int64  \n",
      " 1   Glucose                   768 non-null    int64  \n",
      " 2   BloodPressure             768 non-null    int64  \n",
      " 3   SkinThickness             768 non-null    int64  \n",
      " 4   Insulin                   768 non-null    int64  \n",
      " 5   BMI                       768 non-null    float64\n",
      " 6   DiabetesPedigreeFunction  768 non-null    float64\n",
      " 7   Age                       768 non-null    int64  \n",
      " 8   Outcome                   768 non-null    int64  \n",
      "dtypes: float64(2), int64(7)\n",
      "memory usage: 54.1 KB\n"
     ]
    }
   ],
   "execution_count": 8
  },
  {
   "metadata": {
    "ExecuteTime": {
     "end_time": "2025-02-19T22:11:05.272338Z",
     "start_time": "2025-02-19T22:11:05.267008Z"
    }
   },
   "cell_type": "code",
   "source": [
    "x = data.drop(['Outcome'],axis =1)\n",
    "\n",
    "feature_names = x.columns\n",
    "\n",
    "y = data.Outcome"
   ],
   "id": "672eb148946c090e",
   "outputs": [],
   "execution_count": 9
  },
  {
   "metadata": {
    "ExecuteTime": {
     "end_time": "2025-02-19T22:11:05.329738Z",
     "start_time": "2025-02-19T22:11:05.318753Z"
    }
   },
   "cell_type": "code",
   "source": [
    "# write a csv with both x and y\n",
    "data = pd.DataFrame(x)\n",
    "data['Outcome'] = y\n",
    "\n",
    "# include the feature names\n",
    "data.columns = list(feature_names) + ['Outcome']\n",
    "\n",
    "data.to_csv('diabetes-prep.csv', index=False)"
   ],
   "id": "86315d8dfa7c64a8",
   "outputs": [],
   "execution_count": 10
  }
 ],
 "metadata": {
  "kernelspec": {
   "display_name": "Python 3",
   "language": "python",
   "name": "python3"
  },
  "language_info": {
   "codemirror_mode": {
    "name": "ipython",
    "version": 2
   },
   "file_extension": ".py",
   "mimetype": "text/x-python",
   "name": "python",
   "nbconvert_exporter": "python",
   "pygments_lexer": "ipython2",
   "version": "2.7.6"
  }
 },
 "nbformat": 4,
 "nbformat_minor": 5
}
